{
 "cells": [
  {
   "cell_type": "code",
   "execution_count": null,
   "metadata": {},
   "outputs": [],
   "source": [
    "import sqlite3\n",
    "from tqdm import tqdm\n",
    "import vk\n",
    "import time"
   ]
  },
  {
   "cell_type": "code",
   "execution_count": null,
   "metadata": {},
   "outputs": [],
   "source": [
    "#open vk session\n",
    "with open('token') as f:\n",
    "    TOKEN = f.read()\n",
    "session = vk.Session(access_token=TOKEN)\n",
    "vkapi = vk.API(session)\n",
    "\n",
    "#constants\n",
    "SELF_ID = 7110301\n",
    "SLEEP_TIME = 0.3"
   ]
  },
  {
   "cell_type": "code",
   "execution_count": null,
   "metadata": {},
   "outputs": [],
   "source": [
    "#database\n",
    "conn = sqlite3.connect('users.db')\n",
    "c = conn.cursor()\n",
    "\n",
    "c.execute('CREATE TABLE IF NOT EXISTS uids (uid STRING)');\n",
    "c.execute('CREATE TABLE IF NOT EXISTS users (uid STRING, first_name STRING, last_name STRING, sex STRING, city STRING, home_city STRING)');\n",
    "c.execute('CREATE TABLE IF NOT EXISTS posts (owner_id STRING, date STRING, text STRING)');"
   ]
  },
  {
   "cell_type": "code",
   "execution_count": null,
   "metadata": {},
   "outputs": [],
   "source": [
    "%%time\n",
    "users = vkapi('friends.get', user_id=SELF_ID, v=5.73)['items']\n",
    "users2 = []\n",
    "for user in users:\n",
    "    try:\n",
    "        users2 += vkapi('friends.get', user_id = user, v=5.73)['items']\n",
    "        time.sleep(SLEEP_TIME)\n",
    "    except:\n",
    "        continue\n",
    "    if len(users2) > 300: #will get ~ 400 000 users without break\n",
    "        print(\"limit reached\".upper())\n",
    "        break\n",
    "users += users2\n",
    "users = set(users)\n",
    "\n",
    "users = [7110301,16498689, 7479298, 139411465, 475146, 19914761, 183230474, 5324819, \n",
    "         1581076, 17227799, 5111832, 5808166]\n",
    "\n",
    "c.executemany('INSERT INTO uids VALUES (?)', [(u,) for u in users])\n",
    "conn.commit()"
   ]
  },
  {
   "cell_type": "code",
   "execution_count": null,
   "metadata": {},
   "outputs": [],
   "source": [
    "%%time\n",
    "for user in tqdm(users):\n",
    "    try:\n",
    "        uinfo = vkapi('users.get', user_id = user, fields = ['sex', 'city', 'home_town'], v=5.73)\n",
    "        uinfo[0]['city'] = uinfo[0]['city']['title']\n",
    "        time.sleep(SLEEP_TIME)\n",
    "        for u in uinfo:\n",
    "            data = tuple(v for v in u.values())\n",
    "            if len(data) < 6: data = data + (0,)\n",
    "            c.execute('INSERT INTO users VALUES (?,?,?,?,?,?)', data)\n",
    "            conn.commit()\n",
    "    except:\n",
    "        continue"
   ]
  },
  {
   "cell_type": "code",
   "execution_count": null,
   "metadata": {},
   "outputs": [],
   "source": [
    "%%time\n",
    "def get_post_count(friend):\n",
    "    posts = vkapi('wall.get', owner_id=friend, count=1, filter='owner', v=5.73)\n",
    "    return posts['count']\n",
    "\n",
    "drop = 0\n",
    "for user in tqdm(users, desc='Downloading posts'):\n",
    "    try:\n",
    "        current_post_count = get_post_count(user)\n",
    "        time.sleep(SLEEP_TIME)\n",
    "        if (current_post_count > 7000) or (current_post_count < 100):\n",
    "            continue\n",
    "        current_posts = []\n",
    "        resid = current_post_count\n",
    "        offset = 0\n",
    "#         while resid > 0:\n",
    "        response = vkapi('wall.get', owner_id=user, count=100, filter='owner', \n",
    "                         offset=offset, v=5.73)['items']\n",
    "        time.sleep(SLEEP_TIME)\n",
    "        current_posts += response\n",
    "#             resid -= 100\n",
    "#             offset += 100\n",
    "        chunk = []\n",
    "        for p in current_posts:\n",
    "            if type(p) == dict:\n",
    "                chunk.append((p['owner_id'], p['date'], p['text']))\n",
    "        c.executemany('INSERT INTO posts VALUES (?,?,?)', chunk)\n",
    "        conn.commit()\n",
    "    except:\n",
    "        drop += 1\n",
    "        continue"
   ]
  },
  {
   "cell_type": "code",
   "execution_count": null,
   "metadata": {},
   "outputs": [],
   "source": [
    "c.close()\n",
    "conn.close()"
   ]
  }
 ],
 "metadata": {
  "kernelspec": {
   "display_name": "Python 3",
   "language": "python",
   "name": "python3"
  },
  "language_info": {
   "codemirror_mode": {
    "name": "ipython",
    "version": 3
   },
   "file_extension": ".py",
   "mimetype": "text/x-python",
   "name": "python",
   "nbconvert_exporter": "python",
   "pygments_lexer": "ipython3",
   "version": "3.6.2"
  }
 },
 "nbformat": 4,
 "nbformat_minor": 2
}
