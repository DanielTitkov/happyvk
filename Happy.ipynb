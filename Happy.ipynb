{
 "cells": [
  {
   "cell_type": "code",
   "execution_count": null,
   "metadata": {},
   "outputs": [],
   "source": [
    "#################### СБОР ДАННЫХ ИЗ ВК\n",
    "\n",
    "# Часть 1 - скачать пользователей с постами\n",
    "# 1) Получить список id пользователей для обработки. Сохранить в файл. \n",
    "# 3) Получить информацию о городах и родных городах пользователей. Сохранить тех, у кого они различаются и у кого нет\n",
    "# 3) Получить те города, которые упоминаются у наших пользователей\n",
    "# 4) Получить места работы и учебы?\n",
    "\n",
    "# Часть 2 - определять настроение\n",
    "\n",
    "# Часть 3 - определить точки переезда\n",
    "\n",
    "# Часть 4 - сравнить настроение на разных участках\n",
    "\n",
    "######################### АНАЛИЗ ТОНАЛЬНОСТИ ПОСТОВ\n",
    "\n",
    "# Часть 1 - классификация с помощью сети\n",
    "\n",
    "# Часть 2 - классификация с помощью регрессии\n",
    "\n",
    "# Часть 3 - классификация с помощью словаря\n",
    "\n",
    "######################## АНАЛИЗ РАЗЛИЧИЙ"
   ]
  },
  {
   "cell_type": "code",
   "execution_count": 5,
   "metadata": {},
   "outputs": [],
   "source": [
    "import vk\n",
    "import time\n",
    "import re\n",
    "import csv\n",
    "import math\n",
    "# import pickle\n",
    "import pandas as pd\n",
    "import numpy as np\n",
    "import matplotlib.pyplot as plt\n",
    "\n",
    "from tqdm import tqdm\n",
    "from nltk.tokenize import word_tokenize\n",
    "\n",
    "%matplotlib inline\n",
    "from jupyterthemes import jtplot\n",
    "jtplot.style(theme='onedork')"
   ]
  },
  {
   "cell_type": "code",
   "execution_count": 9,
   "metadata": {},
   "outputs": [],
   "source": [
    "#open vk session\n",
    "with open('token') as f:\n",
    "    TOKEN = f.read()\n",
    "session = vk.Session(access_token=TOKEN)\n",
    "vkapi = vk.API(session)"
   ]
  },
  {
   "cell_type": "code",
   "execution_count": 10,
   "metadata": {},
   "outputs": [],
   "source": [
    "#constants\n",
    "SELF_ID = 7110301\n",
    "SLEEP_TIME = 0.3"
   ]
  },
  {
   "cell_type": "code",
   "execution_count": 11,
   "metadata": {
    "scrolled": true
   },
   "outputs": [
    {
     "name": "stdout",
     "output_type": "stream",
     "text": [
      "12 users\n",
      "approx 15600 posts\n",
      "approx 2.0 minutes ( 0.03 hours ) to collect\n"
     ]
    }
   ],
   "source": [
    "#get users list from file or from Vk\n",
    "try:\n",
    "    with open('01 - users.txt') as f:\n",
    "        users = f.read().splitlines()\n",
    "except FileNotFoundError:\n",
    "    users = vkapi('friends.get')\n",
    "    users2 = []\n",
    "    for user in tqdm(users):\n",
    "        try:\n",
    "            users2 += vkapi('friends.get', user_id = user)\n",
    "            time.sleep(SLEEP_TIME)\n",
    "        except:\n",
    "            continue\n",
    "        if len(users2) > 5000: #will get ~370000 users without break\n",
    "            break\n",
    "    users += users2\n",
    "    users = set(users)\n",
    "    with open('01 - users.txt', 'w') as f:\n",
    "        for user in users:\n",
    "            f.write(str(user) + '\\n')\n",
    "\n",
    "users = [7110301,16498689, 7479298, 139411465, 475146, 19914761, 183230474, 5324819, \n",
    "         1581076, 17227799, 5111832, 5808166]\n",
    "\n",
    "l = len(users)\n",
    "print(l, 'users')\n",
    "print('approx', l*1300, 'posts')\n",
    "print('approx', round(l*10/60, 1),'minutes (', round(l*10/60/60, 2), 'hours ) to collect')"
   ]
  },
  {
   "cell_type": "code",
   "execution_count": 20,
   "metadata": {},
   "outputs": [],
   "source": [
    "#get users info\n",
    "try:\n",
    "    user_info = pd.read_csv('02 - user_info.csv')\n",
    "except FileNotFoundError:\n",
    "    with open('02 - user_info.csv', 'w', encoding='utf-8', newline='') as csvfile: \n",
    "        fieldnames = ['uid', 'first_name', 'last_name', 'sex', 'city', 'home_town']\n",
    "        writer = csv.DictWriter(\n",
    "            csvfile, \n",
    "            fieldnames=fieldnames, \n",
    "            restval='NA', \n",
    "            extrasaction='ignore')\n",
    "        writer.writeheader()\n",
    "        for user in tqdm(users):\n",
    "            try:\n",
    "                uinfo = vkapi('users.get', user_id = user, fields = ['sex', 'city', 'home_town'])\n",
    "                time.sleep(SLEEP_TIME)\n",
    "                for u in uinfo:\n",
    "                    writer.writerow(u)\n",
    "            except:\n",
    "                continue\n",
    "    user_info = pd.read_csv('02 - user_info.csv')"
   ]
  },
  {
   "cell_type": "code",
   "execution_count": 21,
   "metadata": {},
   "outputs": [
    {
     "data": {
      "text/html": [
       "<div>\n",
       "<style>\n",
       "    .dataframe thead tr:only-child th {\n",
       "        text-align: right;\n",
       "    }\n",
       "\n",
       "    .dataframe thead th {\n",
       "        text-align: left;\n",
       "    }\n",
       "\n",
       "    .dataframe tbody tr th {\n",
       "        vertical-align: top;\n",
       "    }\n",
       "</style>\n",
       "<table border=\"1\" class=\"dataframe\">\n",
       "  <thead>\n",
       "    <tr style=\"text-align: right;\">\n",
       "      <th></th>\n",
       "      <th>cid</th>\n",
       "      <th>name</th>\n",
       "    </tr>\n",
       "  </thead>\n",
       "  <tbody>\n",
       "    <tr>\n",
       "      <th>0</th>\n",
       "      <td>1</td>\n",
       "      <td>Москва</td>\n",
       "    </tr>\n",
       "    <tr>\n",
       "      <th>1</th>\n",
       "      <td>2</td>\n",
       "      <td>Санкт-Петербург</td>\n",
       "    </tr>\n",
       "    <tr>\n",
       "      <th>2</th>\n",
       "      <td>103</td>\n",
       "      <td>Обнинск</td>\n",
       "    </tr>\n",
       "  </tbody>\n",
       "</table>\n",
       "</div>"
      ],
      "text/plain": [
       "   cid             name\n",
       "0    1           Москва\n",
       "1    2  Санкт-Петербург\n",
       "2  103          Обнинск"
      ]
     },
     "execution_count": 21,
     "metadata": {},
     "output_type": "execute_result"
    }
   ],
   "source": [
    "#get cities list\n",
    "try:\n",
    "    cids = pd.read_csv('03 - cities.csv')\n",
    "except FileNotFoundError:\n",
    "    cities = []\n",
    "    for c in tqdm(user_cities):\n",
    "        city = vkapi('database.getCitiesById', city_ids=c)\n",
    "        time.sleep(SLEEP_TIME)\n",
    "        cities+=city\n",
    "    with open('03 - cities.csv', 'w', encoding='utf-8', newline='') as csvfile: \n",
    "        fieldnames = ['cid', 'name']\n",
    "        writer = csv.DictWriter(\n",
    "            csvfile, \n",
    "            fieldnames=fieldnames, \n",
    "            restval='NA', \n",
    "            extrasaction='ignore')\n",
    "        writer.writeheader()\n",
    "        for c in cities:\n",
    "            writer.writerow(c)\n",
    "    cids = pd.read_csv('03 - cities.csv')\n",
    "        \n",
    "cids"
   ]
  },
  {
   "cell_type": "code",
   "execution_count": null,
   "metadata": {},
   "outputs": [],
   "source": [
    "#add city names to usinfo\n",
    "# for user in usinfo:"
   ]
  },
  {
   "cell_type": "code",
   "execution_count": 22,
   "metadata": {},
   "outputs": [
    {
     "data": {
      "text/html": [
       "<div>\n",
       "<style>\n",
       "    .dataframe thead tr:only-child th {\n",
       "        text-align: right;\n",
       "    }\n",
       "\n",
       "    .dataframe thead th {\n",
       "        text-align: left;\n",
       "    }\n",
       "\n",
       "    .dataframe tbody tr th {\n",
       "        vertical-align: top;\n",
       "    }\n",
       "</style>\n",
       "<table border=\"1\" class=\"dataframe\">\n",
       "  <thead>\n",
       "    <tr style=\"text-align: right;\">\n",
       "      <th></th>\n",
       "      <th>to_id</th>\n",
       "      <th>from_id</th>\n",
       "      <th>post_type</th>\n",
       "      <th>date</th>\n",
       "      <th>text</th>\n",
       "      <th>copy_text</th>\n",
       "    </tr>\n",
       "  </thead>\n",
       "  <tbody>\n",
       "    <tr>\n",
       "      <th>0</th>\n",
       "      <td>7110301</td>\n",
       "      <td>7110301</td>\n",
       "      <td>post</td>\n",
       "      <td>1493320920</td>\n",
       "      <td>Ох, ох, очень нужны испытуемые! &lt;br&gt;&lt;br&gt;Большо...</td>\n",
       "      <td>NaN</td>\n",
       "    </tr>\n",
       "    <tr>\n",
       "      <th>1</th>\n",
       "      <td>7110301</td>\n",
       "      <td>7110301</td>\n",
       "      <td>post</td>\n",
       "      <td>1508983492</td>\n",
       "      <td>Дурацкая квадратная луна</td>\n",
       "      <td>NaN</td>\n",
       "    </tr>\n",
       "    <tr>\n",
       "      <th>2</th>\n",
       "      <td>7110301</td>\n",
       "      <td>7110301</td>\n",
       "      <td>post</td>\n",
       "      <td>1508525760</td>\n",
       "      <td>Очень не вовремя я заболел. Сентябрь, всё инте...</td>\n",
       "      <td>NaN</td>\n",
       "    </tr>\n",
       "    <tr>\n",
       "      <th>3</th>\n",
       "      <td>7110301</td>\n",
       "      <td>7110301</td>\n",
       "      <td>copy</td>\n",
       "      <td>1508330774</td>\n",
       "      <td>Кем я стал, когда вырос?</td>\n",
       "      <td>NaN</td>\n",
       "    </tr>\n",
       "    <tr>\n",
       "      <th>4</th>\n",
       "      <td>7110301</td>\n",
       "      <td>7110301</td>\n",
       "      <td>copy</td>\n",
       "      <td>1507680635</td>\n",
       "      <td>Я никогда особо не понимал, что происходит</td>\n",
       "      <td>NaN</td>\n",
       "    </tr>\n",
       "  </tbody>\n",
       "</table>\n",
       "</div>"
      ],
      "text/plain": [
       "     to_id  from_id post_type        date  \\\n",
       "0  7110301  7110301      post  1493320920   \n",
       "1  7110301  7110301      post  1508983492   \n",
       "2  7110301  7110301      post  1508525760   \n",
       "3  7110301  7110301      copy  1508330774   \n",
       "4  7110301  7110301      copy  1507680635   \n",
       "\n",
       "                                                text copy_text  \n",
       "0  Ох, ох, очень нужны испытуемые! <br><br>Большо...       NaN  \n",
       "1                           Дурацкая квадратная луна       NaN  \n",
       "2  Очень не вовремя я заболел. Сентябрь, всё инте...       NaN  \n",
       "3                           Кем я стал, когда вырос?       NaN  \n",
       "4         Я никогда особо не понимал, что происходит       NaN  "
      ]
     },
     "execution_count": 22,
     "metadata": {},
     "output_type": "execute_result"
    }
   ],
   "source": [
    "#get posts\n",
    "def get_post_count(friend):\n",
    "    posts = vkapi('wall.get', owner_id=friend, count=1, filter='owner')\n",
    "    post_count = posts[0]\n",
    "    return post_count\n",
    "\n",
    "try:\n",
    "    raw_posts = pd.read_csv('04 - raw_posts.csv')\n",
    "except FileNotFoundError:\n",
    "    with open('04 - raw_posts.csv', 'w', encoding='utf-8', newline='') as csvfile:\n",
    "        fieldnames = ['to_id', 'from_id', 'post_type', 'date', 'text', 'copy_text']\n",
    "        writer = csv.DictWriter(\n",
    "            csvfile, \n",
    "            fieldnames=fieldnames, \n",
    "            restval='NA', \n",
    "            extrasaction='ignore')\n",
    "        writer.writeheader()\n",
    "        for user in tqdm(users, desc='Downloading posts'):\n",
    "            current_post_count = get_post_count(user)\n",
    "            time.sleep(SLEEP_TIME)\n",
    "            if (current_post_count > 7000) or (current_post_count < 100):\n",
    "                continue\n",
    "            current_posts = []\n",
    "            resid = current_post_count\n",
    "            offset = 0\n",
    "            while resid > 0:\n",
    "                response = vkapi('wall.get', \n",
    "                    owner_id=user, \n",
    "                    count=100, \n",
    "                    filter='owner',\n",
    "                    offset=offset)\n",
    "                time.sleep(SLEEP_TIME)\n",
    "                current_posts += response\n",
    "                resid -= 100\n",
    "                offset += 100\n",
    "            for p in current_posts:\n",
    "                if type(p) == dict:\n",
    "                    writer.writerow(p)\n",
    "    raw_posts = pd.read_csv('04 - raw_posts.csv')\n",
    "    \n",
    "raw_posts.head()"
   ]
  },
  {
   "cell_type": "code",
   "execution_count": null,
   "metadata": {},
   "outputs": [],
   "source": []
  },
  {
   "cell_type": "markdown",
   "metadata": {
    "scrolled": false
   },
   "source": [
    "### Удаляем пустые"
   ]
  },
  {
   "cell_type": "code",
   "execution_count": 23,
   "metadata": {},
   "outputs": [],
   "source": [
    "def check_not_nan(x):\n",
    "    if type(x) != float:\n",
    "        return True\n",
    "    else:\n",
    "        return not math.isnan(x)"
   ]
  },
  {
   "cell_type": "code",
   "execution_count": 24,
   "metadata": {},
   "outputs": [
    {
     "data": {
      "text/plain": [
       "(6297, 6)"
      ]
     },
     "execution_count": 24,
     "metadata": {},
     "output_type": "execute_result"
    }
   ],
   "source": [
    "# posts = posts[posts.text.apply(check_not_nan) | posts.copy_text.apply(check_not_nan)]\n",
    "raw_posts2 = raw_posts[raw_posts.text.apply(check_not_nan) | raw_posts.copy_text.apply(check_not_nan)]\n",
    "raw_posts2.shape"
   ]
  },
  {
   "cell_type": "markdown",
   "metadata": {},
   "source": [
    "### Очищаем текст постов и соединяем тексты (репост и авторский текст)\n",
    "\n",
    "Текст копии и авторская приписка к тексту идут отдельными колонками. В первом приближении я просто соединяю их, исходя их того представления, что и авторский текст, и репост, и приписка к репосту могут передавать настроение. "
   ]
  },
  {
   "cell_type": "code",
   "execution_count": 26,
   "metadata": {},
   "outputs": [],
   "source": [
    "def cleanse(s): # ugly old version, update at convenience \n",
    "    rgxp = '[\\|©~^<>/\\'\\\"\\«№#$&\\*.,;=+?!\\—_@:\\]\\[%\\{\\}0-9A-Za-z\\-]' #del all except ) and (\n",
    "    rgxp = '[\\)\\(\\|©~^<>/\\'\\\"\\«№#$&\\*.,;=+?!\\—_@:\\]\\[%\\{\\}0-9A-Za-z\\-]' #dell all\n",
    "#     rgxp = '[©]' #del nothing\n",
    "    return s.str.replace(rgxp, ' ').str.replace('\\\\n',' ').str.replace(' +', ' ')"
   ]
  },
  {
   "cell_type": "code",
   "execution_count": 27,
   "metadata": {},
   "outputs": [
    {
     "data": {
      "text/plain": [
       "(6297, 4)"
      ]
     },
     "execution_count": 27,
     "metadata": {},
     "output_type": "execute_result"
    }
   ],
   "source": [
    "posts_cl = pd.concat([raw_posts2.to_id,\n",
    "                   raw_posts2.from_id,raw_posts2.date,\n",
    "                   cleanse((raw_posts2.text.map(str) + raw_posts2.copy_text.map(str))\n",
    "                           .str.replace('nan','')).rename('post')], \n",
    "                  axis = 1)\n",
    "posts_cl.shape"
   ]
  },
  {
   "cell_type": "markdown",
   "metadata": {},
   "source": [
    "### Длина постов"
   ]
  },
  {
   "cell_type": "code",
   "execution_count": 28,
   "metadata": {
    "scrolled": false
   },
   "outputs": [
    {
     "name": "stdout",
     "output_type": "stream",
     "text": [
      "Mean: 282.67444815 \n",
      "Median: 61.0 \n",
      "Min: 1 \n",
      "Max: 15615\n"
     ]
    }
   ],
   "source": [
    "lens = np.array([len(t) for t in posts_cl.post])\n",
    "print('Mean:', lens.mean(),\n",
    "      '\\nMedian:', np.median(lens), '\\nMin:', min(lens), '\\nMax:', max(lens))"
   ]
  },
  {
   "cell_type": "code",
   "execution_count": 29,
   "metadata": {},
   "outputs": [
    {
     "data": {
      "image/png": "[encoded data removed]",
      "text/plain": [
       "<matplotlib.figure.Figure at 0x23bc96bd7f0>"
      ]
     },
     "metadata": {},
     "output_type": "display_data"
    }
   ],
   "source": [
    "plt.hist(lens, bins=100);"
   ]
  },
  {
   "cell_type": "code",
   "execution_count": 30,
   "metadata": {},
   "outputs": [
    {
     "name": "stdout",
     "output_type": "stream",
     "text": [
      "91.76% постов короче 700 б.\n"
     ]
    }
   ],
   "source": [
    "trsh_up = 700\n",
    "print('{:.2f}% постов короче {} б.'.format(lens[lens<trsh_up].shape[0]/lens.shape[0]*100, trsh_up))"
   ]
  },
  {
   "cell_type": "code",
   "execution_count": 31,
   "metadata": {},
   "outputs": [
    {
     "name": "stdout",
     "output_type": "stream",
     "text": [
      "82.59% постов длиннее 15 б.\n"
     ]
    }
   ],
   "source": [
    "trsh_lo = 15\n",
    "print('{:.2f}% постов длиннее {} б.'.format(lens[lens>trsh_lo].shape[0]/lens.shape[0]*100, trsh_lo))"
   ]
  },
  {
   "cell_type": "markdown",
   "metadata": {},
   "source": [
    "#### Выкинуть слишком короткие и длинные "
   ]
  },
  {
   "cell_type": "code",
   "execution_count": 32,
   "metadata": {},
   "outputs": [
    {
     "data": {
      "text/plain": [
       "(4682, 4)"
      ]
     },
     "execution_count": 32,
     "metadata": {},
     "output_type": "execute_result"
    }
   ],
   "source": [
    "posts = posts_cl[(lens < trsh_up) & (lens > trsh_lo)]\n",
    "posts.shape"
   ]
  },
  {
   "cell_type": "code",
   "execution_count": 33,
   "metadata": {},
   "outputs": [
    {
     "data": {
      "image/png": "[encoded data removed]",
      "text/plain": [
       "<matplotlib.figure.Figure at 0x23bcae45198>"
      ]
     },
     "metadata": {},
     "output_type": "display_data"
    }
   ],
   "source": [
    "lens_ = np.array([len(t) for t in posts.post])\n",
    "plt.hist(lens_, bins=100);"
   ]
  },
  {
   "cell_type": "code",
   "execution_count": 34,
   "metadata": {},
   "outputs": [],
   "source": [
    "posts.to_csv('05 - posts.csv', encoding='utf=8')"
   ]
  },
  {
   "cell_type": "code",
   "execution_count": null,
   "metadata": {},
   "outputs": [],
   "source": []
  },
  {
   "cell_type": "code",
   "execution_count": null,
   "metadata": {},
   "outputs": [],
   "source": []
  },
  {
   "cell_type": "code",
   "execution_count": 30,
   "metadata": {},
   "outputs": [],
   "source": [
    "import numpy as np\n",
    "import pandas as pd\n",
    "\n",
    "import pymorphy2\n",
    "from sklearn.model_selection import train_test_split\n",
    "\n",
    "import matplotlib.pyplot as plt\n",
    "%matplotlib inline\n"
   ]
  },
  {
   "cell_type": "code",
   "execution_count": 31,
   "metadata": {},
   "outputs": [],
   "source": [
    "#load training corpus (tweets)\n",
    "fields = ['id', 'date', 'name', 'text', 'type', 'rep', 'trtw',\n",
    "          'fav', 'stcount', 'fol', 'frien', 'listcount']\n",
    "\n",
    "# – id: уникальный номер сообщения в системе twitter;\n",
    "# – tdate: дата публикации сообщения (твита);\n",
    "# – tmane: имя пользователя, опубликовавшего сообщение;\n",
    "# – ttext:  текст сообщения (твита);\n",
    "# – ttype:  к какому классу относится твит (положительный, отрицательный, нейтральный);\n",
    "# – trep: количество реплаев к данному сообщению. Теперь API твиттера не отдает эту информацию;\n",
    "# - trtw: ретвиты\n",
    "# – tfav: число сколько раз данное сообщение было добавлено в избранное другими пользователями;\n",
    "# – tstcount: число всех сообщений пользователя в сети twitter;\n",
    "# – tfol: количество фоловеров пользователя (тех людей, которые читают пользователя);\n",
    "# – tfrien: количество друзей пользователя (те люди, которых читает пользователь);\n",
    "# – listcount: количество листов-подписок в которые добавлен твиттер-пользователь.\n",
    "\n",
    "neg = pd.read_csv('negative.csv', sep=';', header=None, names=fields)\n",
    "pos = pd.read_csv('positive.csv', sep=';', header=None, names=fields)\n",
    "\n",
    "data = pos.append(neg, ignore_index=True)"
   ]
  },
  {
   "cell_type": "code",
   "execution_count": 32,
   "metadata": {},
   "outputs": [
    {
     "data": {
      "text/plain": [
       "0     хоть я и школота но поверь у нас то же самое ...\n",
       "1    Да все таки он немного похож на него Но мой ма...\n",
       "2                  Ну ты идиотка я испугалась за тебя \n",
       "3     Кто то в углу сидит и погибает от голода а мы...\n",
       "4     Вот что значит страшилка Но блин посмотрев вс...\n",
       "5              ну любишь или нет Я не знаю кто ты бля \n",
       "6     Ох ну это конечно же Чтобы у нее было много д...\n",
       "7       У тебя есть ухажёр Нет мои уши не кто не жрёт \n",
       "8                Поприветствуем моего нового читателя \n",
       "9                  Теперь у меня есть частичка Сиднея \n",
       "Name: text, dtype: object"
      ]
     },
     "execution_count": 32,
     "metadata": {},
     "output_type": "execute_result"
    }
   ],
   "source": [
    "texts = cleanse(data['text'])\n",
    "types = data['type']\n",
    "\n",
    "texts_train, texts_test, types_train, types_test = train_test_split(texts, types, test_size=0.2)\n",
    "texts[:10]"
   ]
  },
  {
   "cell_type": "code",
   "execution_count": 33,
   "metadata": {},
   "outputs": [],
   "source": [
    "# load control sample (vk posts)\n",
    "control1 = pd.read_csv('control1.csv', sep=';')\n",
    "control_texts = cleanse(control1.text)    \n",
    "control_types = control1.type"
   ]
  },
  {
   "cell_type": "code",
   "execution_count": 34,
   "metadata": {},
   "outputs": [],
   "source": [
    "def lemmatize(series):\n",
    "    morph = pymorphy2.MorphAnalyzer()\n",
    "    texts_n = [[morph.parse(i)[0].normal_form for i in word_tokenize(w)] for w in series]\n",
    "    return [' '.join(t) for t in texts_n]"
   ]
  },
  {
   "cell_type": "code",
   "execution_count": 35,
   "metadata": {},
   "outputs": [
    {
     "name": "stdout",
     "output_type": "stream",
     "text": [
      "(100,)\n",
      "Wall time: 1.22 s\n"
     ]
    }
   ],
   "source": [
    "%%time\n",
    "print(pd.Series(lemmatize(texts[:100])).shape)"
   ]
  },
  {
   "cell_type": "code",
   "execution_count": null,
   "metadata": {},
   "outputs": [],
   "source": []
  },
  {
   "cell_type": "markdown",
   "metadata": {},
   "source": [
    "# Обучение модели и предсказание настроения"
   ]
  },
  {
   "cell_type": "markdown",
   "metadata": {},
   "source": [
    "## Тестирование разных классификаторов"
   ]
  },
  {
   "cell_type": "markdown",
   "metadata": {},
   "source": [
    "### Векторизация твитов"
   ]
  },
  {
   "cell_type": "code",
   "execution_count": 36,
   "metadata": {},
   "outputs": [
    {
     "name": "stdout",
     "output_type": "stream",
     "text": [
      "Wall time: 1min 56s\n"
     ]
    }
   ],
   "source": [
    "%%time\n",
    "# vectorize tweets\n",
    "from nltk.tokenize import word_tokenize\n",
    "from sklearn.feature_extraction.text import TfidfVectorizer, CountVectorizer\n",
    "from sklearn.metrics import accuracy_score, classification_report\n",
    "\n",
    "vectorizer = TfidfVectorizer(ngram_range=(1, 1), \n",
    "                             analyzer='word', \n",
    "                             tokenizer=word_tokenize, \n",
    "                             min_df = 100, \n",
    "                             max_df = 0.7, \n",
    "                             max_features = 3000)\n",
    "#best res = 0,74 with Bayes and SVC 0,77 with RF on uncleaned data\n",
    "\n",
    "vectorizer = TfidfVectorizer(ngram_range=(1, 3), \n",
    "                             analyzer='word', \n",
    "                             tokenizer=word_tokenize, \n",
    "                             min_df = 100, \n",
    "                             max_df = 0.51, \n",
    "                             max_features = 3000)\n",
    "#best res = 0,65 with LG 0.67 SVC on cleaned data\n",
    "# 0.67 with LG and SVC and RF on fully cleaned data\n",
    "\n",
    "vectorizer = TfidfVectorizer(ngram_range=(3, 6), \n",
    "                             analyzer='char', \n",
    "                             tokenizer=word_tokenize, \n",
    "                             min_df = 100, \n",
    "                             max_df = 0.7, \n",
    "                             max_features = 5000)\n",
    "#best res 0,77 with Bayes 0.78 with rf on uncleaned data\n",
    "# 0.74 on cleaned data with RF\n",
    "\n",
    "# note that the first time we call fit_transform, then we call simple transform. \n",
    "train_vec = vectorizer.fit_transform(texts_train)\n",
    "test_vec = vectorizer.transform(texts_test)\n",
    "control_vec = vectorizer.transform(control_texts)"
   ]
  },
  {
   "cell_type": "code",
   "execution_count": 37,
   "metadata": {},
   "outputs": [
    {
     "data": {
      "text/plain": [
       "(181467, 5000)"
      ]
     },
     "execution_count": 37,
     "metadata": {},
     "output_type": "execute_result"
    }
   ],
   "source": [
    "train_vec.shape"
   ]
  },
  {
   "cell_type": "code",
   "execution_count": 39,
   "metadata": {},
   "outputs": [
    {
     "data": {
      "text/plain": [
       "array(['е см', 'челове', ' напи', 'меня ', 'ы и', ' на к', 'зать', 'ини',\n",
       "       ' круто', 'дст', ' кур', 'ура', 'к и ', 'ора ', ' ум', ' дом',\n",
       "       'олг', 'пад', 'огл', ' в г'],\n",
       "      dtype='<U6')"
      ]
     },
     "execution_count": 39,
     "metadata": {},
     "output_type": "execute_result"
    }
   ],
   "source": [
    "np.array(vectorizer.get_feature_names()\n",
    ")[np.random.randint(0, len(vectorizer.get_feature_names()), 20)]"
   ]
  },
  {
   "cell_type": "code",
   "execution_count": 40,
   "metadata": {},
   "outputs": [
    {
     "name": "stdout",
     "output_type": "stream",
     "text": [
      "1825726\n"
     ]
    },
    {
     "data": {
      "text/plain": [
       "array(['сы – ', 'хаъпха', 'рприиз', 'ти дое', 'могиле', 'лизму', 'ыоо за',\n",
       "       'рус о', 'покуд', 'щив', 'идужа', 'за фио', 'вил хо', ' века ',\n",
       "       'тив ч', 'опе ми', 'уйка к', 'етеорт', 'визгам', 'еянск', 'еть п',\n",
       "       'хо л', 'де ав', 'егку ', 'йл а', 'ёзк', 'есня', 'кац г', 'хуа в',\n",
       "       'иём п', 'рианки', 'лию жа', 'чёрном', 'с рисо', 'зб а', 'бус же',\n",
       "       'цертно', ' семин', 'бо у у', ' чую м', 'реснен', 'отлуп', 'бог те',\n",
       "       'т а пи', 'соуса', 'зитоп ', 'удия д', 'ти та', 'ки уэ', 'ия гг '],\n",
       "      dtype='<U6')"
      ]
     },
     "execution_count": 40,
     "metadata": {},
     "output_type": "execute_result"
    }
   ],
   "source": [
    "print(len(vectorizer.stop_words_))\n",
    "np.array(list(vectorizer.stop_words_))[np.random.randint(0, len(vectorizer.stop_words_), 50)]"
   ]
  },
  {
   "cell_type": "code",
   "execution_count": 41,
   "metadata": {},
   "outputs": [],
   "source": [
    "def evaluate(y_true, y_pred):\n",
    "    print(\"Accuracy: \", accuracy_score(y_true, y_pred), \"\\n\")\n",
    "    print(classification_report(y_true, y_pred))"
   ]
  },
  {
   "cell_type": "markdown",
   "metadata": {},
   "source": [
    "### Машина опорных векторов"
   ]
  },
  {
   "cell_type": "code",
   "execution_count": 42,
   "metadata": {},
   "outputs": [
    {
     "name": "stdout",
     "output_type": "stream",
     "text": [
      "Wall time: 15.4 s\n"
     ]
    }
   ],
   "source": [
    "%%time\n",
    "from sklearn.svm import LinearSVC\n",
    "\n",
    "svc = LinearSVC()\n",
    "svc.fit(train_vec, types_train)"
   ]
  },
  {
   "cell_type": "code",
   "execution_count": 43,
   "metadata": {},
   "outputs": [
    {
     "name": "stdout",
     "output_type": "stream",
     "text": [
      "TRAINING SAMPLE:\n",
      "Accuracy:  0.738701802532 \n",
      "\n",
      "             precision    recall  f1-score   support\n",
      "\n",
      "         -1       0.74      0.72      0.73     89606\n",
      "          1       0.74      0.75      0.74     91861\n",
      "\n",
      "avg / total       0.74      0.74      0.74    181467\n",
      "\n",
      "TEST SAMPLE:\n",
      "Accuracy:  0.724888134547 \n",
      "\n",
      "             precision    recall  f1-score   support\n",
      "\n",
      "         -1       0.73      0.71      0.72     22317\n",
      "          1       0.72      0.74      0.73     23050\n",
      "\n",
      "avg / total       0.72      0.72      0.72     45367\n",
      "\n",
      "CONTROL SAMPLE (VK POSTS):\n",
      "Accuracy:  0.7 \n",
      "\n",
      "             precision    recall  f1-score   support\n",
      "\n",
      "         -1       0.87      0.41      0.55        32\n",
      "          1       0.65      0.95      0.77        38\n",
      "\n",
      "avg / total       0.75      0.70      0.67        70\n",
      "\n"
     ]
    }
   ],
   "source": [
    "print('TRAINING SAMPLE:')\n",
    "y_train_pred = svc.predict(train_vec)\n",
    "evaluate(types_train, y_train_pred)\n",
    "\n",
    "print('TEST SAMPLE:')\n",
    "y_test_pred = svc.predict(test_vec)\n",
    "evaluate(types_test, y_test_pred)\n",
    "\n",
    "print('CONTROL SAMPLE (VK POSTS):')\n",
    "y_control_pred = svc.predict(control_vec)\n",
    "evaluate(control_types, y_control_pred)"
   ]
  },
  {
   "cell_type": "markdown",
   "metadata": {},
   "source": [
    "### Random forest"
   ]
  },
  {
   "cell_type": "code",
   "execution_count": 44,
   "metadata": {},
   "outputs": [
    {
     "name": "stdout",
     "output_type": "stream",
     "text": [
      "building tree 1 of 30building tree 2 of 30building tree 3 of 30\n",
      "\n",
      "\n",
      "building tree 4 of 30\n",
      "building tree 5 of 30\n",
      "building tree 6 of 30\n",
      "building tree 7 of 30\n",
      "building tree 8 of 30\n",
      "building tree 9 of 30\n",
      "building tree 10 of 30\n",
      "building tree 11 of 30\n",
      "building tree 12 of 30\n",
      "building tree 13 of 30\n",
      "building tree 14 of 30\n",
      "building tree 15 of 30\n",
      "building tree 16 of 30\n",
      "building tree 17 of 30\n",
      "building tree 18 of 30\n",
      "building tree 19 of 30\n",
      "building tree 20 of 30\n",
      "building tree 21 of 30\n",
      "building tree 22 of 30\n",
      "building tree 23 of 30\n",
      "building tree 24 of 30\n",
      "building tree 25 of 30\n",
      "building tree 26 of 30\n",
      "building tree 27 of 30\n",
      "building tree 28 of 30\n",
      "building tree 29 of 30\n",
      "building tree 30 of 30\n"
     ]
    },
    {
     "name": "stderr",
     "output_type": "stream",
     "text": [
      "[Parallel(n_jobs=3)]: Done  30 out of  30 | elapsed:  6.4min finished\n"
     ]
    },
    {
     "data": {
      "text/plain": [
       "RandomForestClassifier(bootstrap=True, class_weight=None, criterion='gini',\n",
       "            max_depth=None, max_features='log2', max_leaf_nodes=None,\n",
       "            min_impurity_decrease=0.0, min_impurity_split=None,\n",
       "            min_samples_leaf=1, min_samples_split=2,\n",
       "            min_weight_fraction_leaf=0.0, n_estimators=30, n_jobs=3,\n",
       "            oob_score=False, random_state=None, verbose=2,\n",
       "            warm_start=False)"
      ]
     },
     "execution_count": 44,
     "metadata": {},
     "output_type": "execute_result"
    }
   ],
   "source": [
    "from sklearn.ensemble import RandomForestClassifier\n",
    "\n",
    "forest = RandomForestClassifier(n_estimators = 30, verbose=2, max_features='log2', n_jobs=3) \n",
    "forest.fit(train_vec, types_train)"
   ]
  },
  {
   "cell_type": "code",
   "execution_count": 45,
   "metadata": {},
   "outputs": [
    {
     "name": "stdout",
     "output_type": "stream",
     "text": [
      "TRAINING SAMPLE:\n"
     ]
    },
    {
     "name": "stderr",
     "output_type": "stream",
     "text": [
      "[Parallel(n_jobs=3)]: Done  30 out of  30 | elapsed:    4.5s finished\n"
     ]
    },
    {
     "name": "stdout",
     "output_type": "stream",
     "text": [
      "Accuracy:  0.999239531154 \n",
      "\n",
      "             precision    recall  f1-score   support\n",
      "\n",
      "         -1       1.00      1.00      1.00     89606\n",
      "          1       1.00      1.00      1.00     91861\n",
      "\n",
      "avg / total       1.00      1.00      1.00    181467\n",
      "\n",
      "TEST SAMPLE:\n"
     ]
    },
    {
     "name": "stderr",
     "output_type": "stream",
     "text": [
      "[Parallel(n_jobs=3)]: Done  30 out of  30 | elapsed:    1.0s finished\n"
     ]
    },
    {
     "name": "stdout",
     "output_type": "stream",
     "text": [
      "Accuracy:  0.71091321886 \n",
      "\n",
      "             precision    recall  f1-score   support\n",
      "\n",
      "         -1       0.70      0.73      0.71     22317\n",
      "          1       0.73      0.69      0.71     23050\n",
      "\n",
      "avg / total       0.71      0.71      0.71     45367\n",
      "\n",
      "CONTROL SAMPLE (VK POSTS):\n"
     ]
    },
    {
     "name": "stderr",
     "output_type": "stream",
     "text": [
      "[Parallel(n_jobs=3)]: Done  30 out of  30 | elapsed:    0.0s finished\n"
     ]
    },
    {
     "name": "stdout",
     "output_type": "stream",
     "text": [
      "Accuracy:  0.742857142857 \n",
      "\n",
      "             precision    recall  f1-score   support\n",
      "\n",
      "         -1       0.79      0.59      0.68        32\n",
      "          1       0.72      0.87      0.79        38\n",
      "\n",
      "avg / total       0.75      0.74      0.74        70\n",
      "\n"
     ]
    }
   ],
   "source": [
    "print('TRAINING SAMPLE:')\n",
    "y_train_pred = forest.predict(train_vec)\n",
    "evaluate(types_train, y_train_pred)\n",
    "\n",
    "print('TEST SAMPLE:')\n",
    "y_test_pred = forest.predict(test_vec)\n",
    "evaluate(types_test, y_test_pred)\n",
    "\n",
    "print('CONTROL SAMPLE (VK POSTS):')\n",
    "y_control_pred = forest.predict(control_vec)\n",
    "evaluate(control_types, y_control_pred)"
   ]
  },
  {
   "cell_type": "code",
   "execution_count": 47,
   "metadata": {},
   "outputs": [
    {
     "data": {
      "text/plain": [
       "[(0.0046605067522008702, ' не'),\n",
       " (0.0029775442170080694, ' не '),\n",
       " (0.0022263862462233975, 'не '),\n",
       " (0.0019393702901778567, 'аха'),\n",
       " (0.0017555488037584875, ' ахах'),\n",
       " (0.0017272771091006794, ' по'),\n",
       " (0.001584267025824148, 'паси'),\n",
       " (0.0015599331417906572, 'ть '),\n",
       " (0.0015405353799677515, ' на'),\n",
       " (0.0015187136294547245, ' я '),\n",
       " (0.0014390145172925122, 'то '),\n",
       " (0.0013023019834120667, ' и '),\n",
       " (0.001301425523241588, 'хах'),\n",
       " (0.0013000346923503472, ' пр'),\n",
       " (0.0012811709599192694, 'на '),\n",
       " (0.0012126767476028685, 'но '),\n",
       " (0.0012044680175027161, ' в '),\n",
       " (0.0011697642865995854, 'хах '),\n",
       " (0.0011253259845959978, ' а '),\n",
       " (0.0011175027864341199, ' с '),\n",
       " (0.0010956666447190827, 'ак '),\n",
       " (0.0010827329322074799, 'ет '),\n",
       " (0.0010752303729414331, ' за'),\n",
       " (0.0010723729761455531, ' то'),\n",
       " (0.0010559302797214696, 'бли'),\n",
       " (0.0010294105132549335, ' ах'),\n",
       " (0.0010261412191346886, 'ла '),\n",
       " (0.0010171586035271588, 'ахаха'),\n",
       " (0.0010048615311474803, 'ем '),\n",
       " (0.0010006606949860585, 'блин'),\n",
       " (0.00099939325908019578, ' ка'),\n",
       " (0.00099846141978766076, 'меня '),\n",
       " (0.00098333045185848653, 'да '),\n",
       " (0.00098142091033924582, 'бол'),\n",
       " (0.0009756321805786043, 'о н'),\n",
       " (0.00097555278314540072, 'ой '),\n",
       " (0.00097282255305240609, 'ня '),\n",
       " (0.00095785417532172747, 'мен'),\n",
       " (0.00095783765131510516, 'ся '),\n",
       " (0.00093586217047767579, ' та'),\n",
       " (0.0009304124747946806, ' мо'),\n",
       " (0.00092819617012191943, ' на '),\n",
       " (0.00091549755279903022, 'е н'),\n",
       " (0.00091048544204457016, 'ать'),\n",
       " (0.00090956941425131515, ' меня '),\n",
       " (0.00089051102832953043, ' но'),\n",
       " (0.0008834097253493569, 'же '),\n",
       " (0.00087634210679101386, ' бол'),\n",
       " (0.00087060411933133494, 'так'),\n",
       " (0.00086586793836316298, ' ме')]"
      ]
     },
     "execution_count": 47,
     "metadata": {},
     "output_type": "execute_result"
    }
   ],
   "source": [
    "sorted(list(zip(forest.feature_importances_, vectorizer.get_feature_names())), reverse=True)[0:50]"
   ]
  },
  {
   "cell_type": "markdown",
   "metadata": {},
   "source": [
    "### Регрессия"
   ]
  },
  {
   "cell_type": "code",
   "execution_count": 48,
   "metadata": {},
   "outputs": [
    {
     "name": "stdout",
     "output_type": "stream",
     "text": [
      "Wall time: 16.3 s\n"
     ]
    }
   ],
   "source": [
    "%%time\n",
    "from sklearn.linear_model import LogisticRegression\n",
    "\n",
    "logreg = LogisticRegression() \n",
    "logreg.fit(train_vec, types_train)"
   ]
  },
  {
   "cell_type": "code",
   "execution_count": 49,
   "metadata": {},
   "outputs": [
    {
     "name": "stdout",
     "output_type": "stream",
     "text": [
      "TRAINING SAMPLE:\n",
      "Accuracy:  0.73200085966 \n",
      "\n",
      "             precision    recall  f1-score   support\n",
      "\n",
      "         -1       0.73      0.72      0.73     89606\n",
      "          1       0.73      0.75      0.74     91861\n",
      "\n",
      "avg / total       0.73      0.73      0.73    181467\n",
      "\n",
      "TEST SAMPLE:\n",
      "Accuracy:  0.72127317213 \n",
      "\n",
      "             precision    recall  f1-score   support\n",
      "\n",
      "         -1       0.72      0.70      0.71     22317\n",
      "          1       0.72      0.74      0.73     23050\n",
      "\n",
      "avg / total       0.72      0.72      0.72     45367\n",
      "\n",
      "CONTROL SAMPLE (VK POSTS):\n",
      "Accuracy:  0.7 \n",
      "\n",
      "             precision    recall  f1-score   support\n",
      "\n",
      "         -1       0.92      0.38      0.53        32\n",
      "          1       0.65      0.97      0.78        38\n",
      "\n",
      "avg / total       0.77      0.70      0.67        70\n",
      "\n"
     ]
    }
   ],
   "source": [
    "print('TRAINING SAMPLE:')\n",
    "y_train_pred = logreg.predict(train_vec)\n",
    "evaluate(types_train, y_train_pred)\n",
    "\n",
    "print('TEST SAMPLE:')\n",
    "y_test_pred = logreg.predict(test_vec)\n",
    "evaluate(types_test, y_test_pred)\n",
    "\n",
    "print('CONTROL SAMPLE (VK POSTS):')\n",
    "y_control_pred = logreg.predict(control_vec)\n",
    "evaluate(control_types, y_control_pred)"
   ]
  },
  {
   "cell_type": "code",
   "execution_count": 50,
   "metadata": {},
   "outputs": [
    {
     "data": {
      "text/plain": [
       "[(-10.322861370303665, ' о о'),\n",
       " (-5.4598398744710588, 'боле'),\n",
       " (-5.2939377736626119, ' жал'),\n",
       " (-5.2162544242666398, 'чаль'),\n",
       " (-4.4090263609136828, 'грус'),\n",
       " (-4.1725686668077158, 'бля'),\n",
       " (-4.0811339362702945, 'ожал'),\n",
       " (-4.0059111757405974, 'ечал'),\n",
       " (-3.9768449218349682, 'боль'),\n",
       " (-3.870637782581499, 'е могу'),\n",
       " (-3.5931825653667397, 'бид'),\n",
       " (-3.5500632656205915, 'обид'),\n",
       " (-3.498929710398206, 'не л'),\n",
       " (-3.4370331909455847, 'туп'),\n",
       " (-3.4160140025420276, ' не по')]"
      ]
     },
     "execution_count": 50,
     "metadata": {},
     "output_type": "execute_result"
    }
   ],
   "source": [
    "sorted(list(zip(logreg.coef_[0], vectorizer.get_feature_names())))[0:15]"
   ]
  },
  {
   "cell_type": "code",
   "execution_count": 51,
   "metadata": {},
   "outputs": [
    {
     "data": {
      "text/plain": [
       "[(6.1642168230249377, ' х '),\n",
       " (4.3691363003902461, ' рад'),\n",
       " (4.0603820489071856, 'крас'),\n",
       " (3.8903326003957006, 'хах '),\n",
       " (3.6424209792598115, ' прия'),\n",
       " (3.4307568064076768, ' прият'),\n",
       " (3.3679039109685993, ' жел'),\n",
       " (3.2599005637283911, ' по'),\n",
       " (3.2038329430564603, 'больш'),\n",
       " (3.1205758844376361, 'к ч'),\n",
       " (3.0686125114061915, 'кст'),\n",
       " (3.0513651743170516, ' ур'),\n",
       " (3.0361049459880167, 'хах'),\n",
       " (3.0240966690950688, 'ха '),\n",
       " (2.928804774650632, 'лан')]"
      ]
     },
     "execution_count": 51,
     "metadata": {},
     "output_type": "execute_result"
    }
   ],
   "source": [
    "sorted(list(zip(logreg.coef_[0], vectorizer.get_feature_names())), reverse=True)[0:15]"
   ]
  },
  {
   "cell_type": "markdown",
   "metadata": {},
   "source": [
    "### Bayes"
   ]
  },
  {
   "cell_type": "code",
   "execution_count": 52,
   "metadata": {},
   "outputs": [
    {
     "name": "stdout",
     "output_type": "stream",
     "text": [
      "Wall time: 413 ms\n"
     ]
    }
   ],
   "source": [
    "%%time\n",
    "from sklearn.naive_bayes import MultinomialNB\n",
    "\n",
    "bnb = MultinomialNB()\n",
    "bnb.fit(train_vec, types_train)"
   ]
  },
  {
   "cell_type": "code",
   "execution_count": 53,
   "metadata": {},
   "outputs": [
    {
     "name": "stdout",
     "output_type": "stream",
     "text": [
      "TRAINING SAMPLE:\n",
      "Accuracy:  0.681606022032 \n",
      "\n",
      "             precision    recall  f1-score   support\n",
      "\n",
      "         -1       0.68      0.67      0.67     89606\n",
      "          1       0.68      0.69      0.69     91861\n",
      "\n",
      "avg / total       0.68      0.68      0.68    181467\n",
      "\n",
      "TEST SAMPLE:\n",
      "Accuracy:  0.682875217669 \n",
      "\n",
      "             precision    recall  f1-score   support\n",
      "\n",
      "         -1       0.68      0.67      0.67     22317\n",
      "          1       0.68      0.70      0.69     23050\n",
      "\n",
      "avg / total       0.68      0.68      0.68     45367\n",
      "\n",
      "CONTROL SAMPLE (VK POSTS):\n",
      "Accuracy:  0.642857142857 \n",
      "\n",
      "             precision    recall  f1-score   support\n",
      "\n",
      "         -1       0.82      0.28      0.42        32\n",
      "          1       0.61      0.95      0.74        38\n",
      "\n",
      "avg / total       0.71      0.64      0.59        70\n",
      "\n"
     ]
    }
   ],
   "source": [
    "print('TRAINING SAMPLE:')\n",
    "y_train_pred = bnb.predict(train_vec)\n",
    "evaluate(types_train, y_train_pred)\n",
    "\n",
    "print('TEST SAMPLE:')\n",
    "y_test_pred = bnb.predict(test_vec)\n",
    "evaluate(types_test, y_test_pred)\n",
    "\n",
    "print('CONTROL SAMPLE (VK POSTS):')\n",
    "y_control_pred = bnb.predict(control_vec)\n",
    "evaluate(control_types, y_control_pred)"
   ]
  },
  {
   "cell_type": "markdown",
   "metadata": {},
   "source": [
    "### GBoost"
   ]
  },
  {
   "cell_type": "code",
   "execution_count": 562,
   "metadata": {
    "scrolled": false
   },
   "outputs": [
    {
     "name": "stdout",
     "output_type": "stream",
     "text": [
      "      Iter       Train Loss   Remaining Time \n",
      "         1           1.2060            1.57m\n",
      "         2           1.0602            1.67m\n",
      "         3           0.9364            1.70m\n",
      "         4           0.8318            1.69m\n",
      "         5           0.7439            1.68m\n",
      "         6           0.6665            1.66m\n",
      "         7           0.6011            1.65m\n",
      "         8           0.5421            1.64m\n",
      "         9           0.4922            1.62m\n",
      "        10           0.4468            1.61m\n",
      "        20           0.1937            1.50m\n",
      "        30           0.1022            1.45m\n",
      "        40           0.0681            1.30m\n",
      "        50           0.0569            1.11m\n",
      "        60           0.0484           54.51s\n",
      "        70           0.0434           41.45s\n",
      "        80           0.0375           27.92s\n",
      "        90           0.0349           14.12s\n",
      "       100           0.0311            0.00s\n"
     ]
    },
    {
     "data": {
      "text/plain": [
       "GradientBoostingClassifier(criterion='friedman_mse', init=None,\n",
       "              learning_rate=0.1, loss='deviance', max_depth=3,\n",
       "              max_features=None, max_leaf_nodes=None,\n",
       "              min_impurity_decrease=0.0, min_impurity_split=None,\n",
       "              min_samples_leaf=1, min_samples_split=2,\n",
       "              min_weight_fraction_leaf=0.0, n_estimators=100,\n",
       "              presort='auto', random_state=None, subsample=1.0, verbose=1,\n",
       "              warm_start=False)"
      ]
     },
     "execution_count": 562,
     "metadata": {},
     "output_type": "execute_result"
    }
   ],
   "source": [
    "from sklearn.ensemble import GradientBoostingClassifier\n",
    "\n",
    "gbc = GradientBoostingClassifier(verbose=1)\n",
    "gbc.fit(train_vec, types_train)"
   ]
  },
  {
   "cell_type": "code",
   "execution_count": 563,
   "metadata": {},
   "outputs": [
    {
     "name": "stdout",
     "output_type": "stream",
     "text": [
      "TRAINING SAMPLE:\n",
      "Accuracy:  0.997310805821 \n",
      "\n",
      "             precision    recall  f1-score   support\n",
      "\n",
      "         -1       0.99      1.00      1.00     89513\n",
      "          1       1.00      0.99      1.00     91954\n",
      "\n",
      "avg / total       1.00      1.00      1.00    181467\n",
      "\n",
      "TEST SAMPLE:\n",
      "Accuracy:  0.997531245178 \n",
      "\n",
      "             precision    recall  f1-score   support\n",
      "\n",
      "         -1       1.00      1.00      1.00     22410\n",
      "          1       1.00      1.00      1.00     22957\n",
      "\n",
      "avg / total       1.00      1.00      1.00     45367\n",
      "\n",
      "CONTROL SAMPLE (VK POSTS):\n",
      "Accuracy:  0.671428571429 \n",
      "\n",
      "             precision    recall  f1-score   support\n",
      "\n",
      "         -1       0.58      0.97      0.73        32\n",
      "          1       0.94      0.42      0.58        38\n",
      "\n",
      "avg / total       0.78      0.67      0.65        70\n",
      "\n"
     ]
    }
   ],
   "source": [
    "print('TRAINING SAMPLE:')\n",
    "y_train_pred = gbc.predict(train_vec)\n",
    "evaluate(types_train, y_train_pred)\n",
    "\n",
    "print('TEST SAMPLE:')\n",
    "y_test_pred = gbc.predict(test_vec)\n",
    "evaluate(types_test, y_test_pred)\n",
    "\n",
    "print('CONTROL SAMPLE (VK POSTS):')\n",
    "y_control_pred = gbc.predict(control_vec)\n",
    "evaluate(control_types, y_control_pred)"
   ]
  },
  {
   "cell_type": "markdown",
   "metadata": {},
   "source": [
    "Plan:\n",
    "- use RF model for all posts\n",
    "- group by cities\n",
    "- calculate happy/sad proportion for different cities\n",
    "- draw on map\n",
    "- геометки\n"
   ]
  },
  {
   "cell_type": "code",
   "execution_count": null,
   "metadata": {},
   "outputs": [],
   "source": []
  },
  {
   "cell_type": "code",
   "execution_count": null,
   "metadata": {},
   "outputs": [],
   "source": []
  },
  {
   "cell_type": "code",
   "execution_count": null,
   "metadata": {},
   "outputs": [],
   "source": []
  },
  {
   "cell_type": "code",
   "execution_count": null,
   "metadata": {},
   "outputs": [],
   "source": []
  }
 ],
 "metadata": {
  "kernelspec": {
   "display_name": "Python 3",
   "language": "python",
   "name": "python3"
  },
  "language_info": {
   "codemirror_mode": {
    "name": "ipython",
    "version": 3
   },
   "file_extension": ".py",
   "mimetype": "text/x-python",
   "name": "python",
   "nbconvert_exporter": "python",
   "pygments_lexer": "ipython3",
   "version": "3.6.2"
  }
 },
 "nbformat": 4,
 "nbformat_minor": 1
}
